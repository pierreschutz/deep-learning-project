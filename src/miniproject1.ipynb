{
 "cells": [
  {
   "cell_type": "code",
   "execution_count": 1,
   "metadata": {},
   "outputs": [],
   "source": [
    "# Import python utils\n",
    "import torch\n",
    "import math\n",
    "from torch.utils import data\n",
    "from torch import optim\n",
    "from torch import Tensor\n",
    "from torch import nn\n",
    "from torch.nn import functional as F\n",
    "from torchvision import datasets"
   ]
  },
  {
   "cell_type": "code",
   "execution_count": 2,
   "metadata": {},
   "outputs": [],
   "source": [
    "# Import project utils\n",
    "from utils.dlc_practical_prologue import generate_pair_sets\n",
    "from utils.metrics import accuracy\n",
    "from utils.nn_utils import train_model\n",
    "\n",
    "# Import our models. \n",
    "from models.ResNet import residual_net\n",
    "from models.LinearReluNet import linear_relu_net\n",
    "from models.SimpleConvNet import simple_conv_net\n",
    "from models.LeNet import lenet"
   ]
  },
  {
   "cell_type": "code",
   "execution_count": 3,
   "metadata": {},
   "outputs": [],
   "source": [
    "# Data related global variables\n",
    "N = 1000  # Number of pairs\n",
    "\n",
    "# Neural nets parameters\n",
    "NN_ARGS = {\"input_size\": 14 * 14, \"nb_classes\": 10}\n",
    "BATCH_SIZE = 100\n",
    "NUM_EPOCHS = 25"
   ]
  },
  {
   "cell_type": "code",
   "execution_count": 4,
   "metadata": {},
   "outputs": [],
   "source": [
    "def build_data(number_of_pairs, batch_size):\n",
    "    train_input, train_target, train_classes, test_input, test_target, test_classes = generate_pair_sets(number_of_pairs)\n",
    "    train_dataset = data.TensorDataset(train_input, train_classes)\n",
    "    test_dataset = data.TensorDataset(test_input, test_target)\n",
    "    \n",
    "    train_loader = data.DataLoader(dataset=train_dataset, batch_size=batch_size, shuffle=True)\n",
    "    test_loader = data.DataLoader(dataset=test_dataset, batch_size=batch_size, shuffle=False)\n",
    "    \n",
    "    return train_loader, test_loader  \n",
    "    "
   ]
  },
  {
   "cell_type": "code",
   "execution_count": 5,
   "metadata": {},
   "outputs": [
    {
     "data": {
      "text/plain": [
       "SimpleConvNet(\n",
       "  (cnn_layers): Sequential(\n",
       "    (C1): Conv2d(1, 6, kernel_size=(2, 2), stride=(1, 1))\n",
       "    (BN1): BatchNorm2d(6, eps=1e-05, momentum=0.1, affine=True, track_running_stats=True)\n",
       "    (Relu1): ReLU()\n",
       "    (S2): MaxPool2d(kernel_size=(2, 2), stride=2, padding=0, dilation=1, ceil_mode=False)\n",
       "    (C3): Conv2d(6, 7, kernel_size=(2, 2), stride=(1, 1))\n",
       "    (BN2): BatchNorm2d(7, eps=1e-05, momentum=0.1, affine=True, track_running_stats=True)\n",
       "    (Relu3): ReLU()\n",
       "    (S4): MaxPool2d(kernel_size=(2, 2), stride=2, padding=0, dilation=1, ceil_mode=False)\n",
       "    (C5): Conv2d(7, 100, kernel_size=(2, 2), stride=(1, 1))\n",
       "    (BN3): BatchNorm2d(100, eps=1e-05, momentum=0.1, affine=True, track_running_stats=True)\n",
       "    (Relu5): ReLU()\n",
       "  )\n",
       "  (linear_layers): Sequential(\n",
       "    (F6): Linear(in_features=100, out_features=84, bias=True)\n",
       "    (Relu6): ReLU()\n",
       "    (F7): Linear(in_features=84, out_features=10, bias=True)\n",
       "    (LogSoftmax): LogSoftmax()\n",
       "  )\n",
       ")"
      ]
     },
     "execution_count": 5,
     "metadata": {},
     "output_type": "execute_result"
    }
   ],
   "source": [
    "# Create the model & the data loader.\n",
    "train_loader, test_loader = build_data(N, BATCH_SIZE)\n",
    "#model = linear_relu_net(**NN_ARGS)\n",
    "model = simple_conv_net()\n",
    "model"
   ]
  },
  {
   "cell_type": "code",
   "execution_count": 6,
   "metadata": {},
   "outputs": [
    {
     "data": {
      "text/plain": [
       "LeNet(\n",
       "  (conv_net): Sequential(\n",
       "    (C1): Conv2d(1, 6, kernel_size=(2, 2), stride=(1, 1))\n",
       "    (Relu1): ReLU()\n",
       "    (S2): MaxPool2d(kernel_size=(2, 2), stride=2, padding=0, dilation=1, ceil_mode=False)\n",
       "    (C3): Conv2d(6, 7, kernel_size=(2, 2), stride=(1, 1))\n",
       "    (Relu3): ReLU()\n",
       "    (S4): MaxPool2d(kernel_size=(2, 2), stride=2, padding=0, dilation=1, ceil_mode=False)\n",
       "    (C5): Conv2d(7, 120, kernel_size=(2, 2), stride=(1, 1))\n",
       "    (Relu5): ReLU()\n",
       "  )\n",
       "  (fully_connected): Sequential(\n",
       "    (F6): Linear(in_features=120, out_features=84, bias=True)\n",
       "    (Relu6): ReLU()\n",
       "    (F7): Linear(in_features=84, out_features=10, bias=True)\n",
       "    (LogSoftmax): LogSoftmax()\n",
       "  )\n",
       ")"
      ]
     },
     "execution_count": 6,
     "metadata": {},
     "output_type": "execute_result"
    }
   ],
   "source": [
    "model2 = lenet()\n",
    "model2"
   ]
  },
  {
   "cell_type": "code",
   "execution_count": 7,
   "metadata": {},
   "outputs": [
    {
     "name": "stdout",
     "output_type": "stream",
     "text": [
      "End of Epoch 1, Avg Loss=4.1764\n",
      "End of Epoch 2, Avg Loss=3.1153\n",
      "End of Epoch 3, Avg Loss=2.1299\n",
      "End of Epoch 4, Avg Loss=1.5128\n",
      "End of Epoch 5, Avg Loss=1.1789\n",
      "End of Epoch 6, Avg Loss=0.9832\n",
      "End of Epoch 7, Avg Loss=0.8235\n",
      "End of Epoch 8, Avg Loss=0.7486\n",
      "End of Epoch 9, Avg Loss=0.6753\n",
      "End of Epoch 10, Avg Loss=0.6172\n",
      "End of Epoch 11, Avg Loss=0.5681\n",
      "End of Epoch 12, Avg Loss=0.5311\n",
      "End of Epoch 13, Avg Loss=0.5037\n",
      "End of Epoch 14, Avg Loss=0.4437\n",
      "End of Epoch 15, Avg Loss=0.4264\n",
      "End of Epoch 16, Avg Loss=0.4026\n",
      "End of Epoch 17, Avg Loss=0.3702\n",
      "End of Epoch 18, Avg Loss=0.3625\n",
      "End of Epoch 19, Avg Loss=0.3236\n",
      "End of Epoch 20, Avg Loss=0.3162\n",
      "End of Epoch 21, Avg Loss=0.2850\n",
      "End of Epoch 22, Avg Loss=0.2675\n",
      "End of Epoch 23, Avg Loss=0.2544\n",
      "End of Epoch 24, Avg Loss=0.2378\n",
      "End of Epoch 25, Avg Loss=0.2201\n",
      "0.46\n"
     ]
    }
   ],
   "source": [
    "# Train model and evaluate performances\n",
    "train_model(model, NUM_EPOCHS, train_loader, flatten=False)\n",
    "print(accuracy(model2, test_loader, flatten=False))"
   ]
  },
  {
   "cell_type": "code",
   "execution_count": null,
   "metadata": {},
   "outputs": [],
   "source": []
  },
  {
   "cell_type": "code",
   "execution_count": 8,
   "metadata": {},
   "outputs": [
    {
     "ename": "TypeError",
     "evalue": "__init__() missing 2 required positional arguments: 'in_features' and 'out_features'",
     "output_type": "error",
     "traceback": [
      "\u001b[0;31m---------------------------------------------------------------------------\u001b[0m",
      "\u001b[0;31mTypeError\u001b[0m                                 Traceback (most recent call last)",
      "\u001b[0;32m<ipython-input-8-2a5e454220a4>\u001b[0m in \u001b[0;36m<module>\u001b[0;34m\u001b[0m\n\u001b[1;32m      1\u001b[0m shallow_model = nn.Sequential(\n\u001b[0;32m----> 2\u001b[0;31m     \u001b[0mnn\u001b[0m\u001b[0;34m.\u001b[0m\u001b[0mLinear\u001b[0m\u001b[0;34m(\u001b[0m\u001b[0;34m)\u001b[0m\u001b[0;34m\u001b[0m\u001b[0;34m\u001b[0m\u001b[0m\n\u001b[0m\u001b[1;32m      3\u001b[0m )\n",
      "\u001b[0;31mTypeError\u001b[0m: __init__() missing 2 required positional arguments: 'in_features' and 'out_features'"
     ]
    }
   ],
   "source": [
    "shallow_model = nn.Sequential(\n",
    "    nn.Linear()\n",
    ")"
   ]
  },
  {
   "cell_type": "code",
   "execution_count": null,
   "metadata": {},
   "outputs": [],
   "source": [
    "resnet ="
   ]
  }
 ],
 "metadata": {
  "kernelspec": {
   "display_name": "Python 3",
   "language": "python",
   "name": "python3"
  },
  "language_info": {
   "codemirror_mode": {
    "name": "ipython",
    "version": 3
   },
   "file_extension": ".py",
   "mimetype": "text/x-python",
   "name": "python",
   "nbconvert_exporter": "python",
   "pygments_lexer": "ipython3",
   "version": "3.7.6"
  }
 },
 "nbformat": 4,
 "nbformat_minor": 4
}
