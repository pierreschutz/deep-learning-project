{
 "cells": [
  {
   "cell_type": "code",
   "execution_count": 2,
   "metadata": {},
   "outputs": [],
   "source": [
    "import torch\n",
    "from torch.utils import data\n",
    "import torch.nn as nn\n",
    "from torch.optim import Adam\n",
    "import numpy as np\n",
    "import matplotlib\n",
    "import matplotlib.pyplot as plt\n",
    "import os\n",
    "plt.style.use('seaborn') \n",
    "matplotlib.rcParams['font.family'] = 'serif'  \n",
    "os.environ['KMP_DUPLICATE_LIB_OK']='True' # Avoid iOS bug with pyplot. \n",
    "\n",
    "\n",
    "# Data loading\n",
    "from utils.dlc_practical_prologue import generate_pair_sets\n",
    "\n",
    "\n",
    "\n",
    "# Import models\n",
    "from models.LeNet import lenet\n",
    "from models.LinearReluNet import linear_relu_net\n",
    "from models.SimpleConvNet import simple_conv_net\n",
    "from models.ResNet import residual_net\n",
    "\n",
    "\n",
    "# Import plot utils\n",
    "from utils.plot_utils import *\n",
    "from utils.ml_utils import *\n",
    "from utils.data_utils import *\n",
    "from utils.metrics import accuracy"
   ]
  },
  {
   "cell_type": "code",
   "execution_count": 3,
   "metadata": {},
   "outputs": [],
   "source": [
    "N = 1000  # Number of pairs\n",
    "NN_ARGS = {\"input_size\": 14 * 14, \"num_classes\": 10}\n",
    "DROP = {\"d1\" : 0, \"d2\" : 0}\n",
    "DROP_RES = {\"d\" : 0.15}\n",
    "BATCH_SIZE = 10\n",
    "NUM_EPOCHS = 25\n",
    "NUM_ITER = 1\n",
    "MODELS = {\n",
    "    \"SimpleConvNet\" : {\"args\" : DROP , \"f\" :simple_conv_net, \"flatten\": False, \"name\":\"Simple Conv\" },\n",
    "    \"LinearRelu\": {\"args\": NN_ARGS, \"f\": linear_relu_net, \"flatten\": True, \"name\":\"Linear ReLu\"},\n",
    "    \"LeNet\": {\"args\": DROP, \"f\": lenet, \"flatten\": False, \"name\":\"LeNet\"},\n",
    "    \"ResNet\": {\"args\": DROP_RES, \"f\": residual_net, \"flatten\": False, \"name\":\"Residual Net\"},\n",
    "}"
   ]
  },
  {
   "cell_type": "code",
   "execution_count": 8,
   "metadata": {},
   "outputs": [],
   "source": [
    "def full_train_test(model_info, num_iter, num_epochs, data_size, batch_size, verbose=False):\n",
    "    device = torch.device(\"cuda\" if torch.cuda.is_available() else \"cpu\")\n",
    "    # Copy all model parameters to the GPU\n",
    "    \n",
    "    args = model_info.get('args')\n",
    "    if args is None:\n",
    "        model = model_info.get('f')()\n",
    "    else:\n",
    "        model = model_info.get('f')(**args)\n",
    "\n",
    "    model = model.to(device)\n",
    "    \n",
    "    all_train_losses = [] \n",
    "    all_test_losses = []\n",
    "    \n",
    "    all_test_accuracies = []\n",
    "    \n",
    "    for it in range(1, num_iter + 1):\n",
    "        print(\"Iteration %d\" % it)\n",
    "        \n",
    "        # Generate a new dataset\n",
    "        train_input, train_target, train_classes, test_input, test_target, test_classes = generate_pair_sets(data_size)\n",
    "        \n",
    "        # Build Keras loaders for train and test datasets batches.\n",
    "        tr_loader, te_loader = build_train_loaders(train_input, train_classes, test_input, test_classes, batch_size)\n",
    "        \n",
    "        tr_losses, te_losses = train_model(model, device, num_epochs, tr_loader, te_loader, model_info.get('flatten'), verbose)\n",
    "        \n",
    "       # plot_train_test(tr_losses, te_losses, model_info.get('name'))\n",
    "    \n",
    "        if verbose:\n",
    "            print(\"Final train loss: %.4f\" % tr_losses[-1])\n",
    "            print(\"Final test loss: %.4f\" % te_losses[-1])\n",
    "    \n",
    "        all_train_losses.append(tr_losses)\n",
    "        all_test_losses.append(te_losses)\n",
    "        \n",
    "        _,_,_, acc_input, acc_target, _ = generate_pair_sets(data_size)\n",
    "        acc_loader = build_test_loader(acc_input, acc_target, batch_size)\n",
    "        \n",
    "        acc = accuracy(model, acc_loader, None, model_info.get('flatten'))\n",
    "        if verbose:\n",
    "            print(\"Test accuracy: %.4f\" % acc)\n",
    "        all_test_accuracies.append(acc)\n",
    "    \n",
    "    \n",
    "    plot_losses(all_train_losses, all_test_losses, model_info.get('name'))\n",
    "    \n",
    "    plot_accuracy(all_test_accuracies, model_info.get('name'))\n",
    "    \n",
    "    \n",
    "    return all_train_losses, all_test_losses, all_test_accuracies"
   ]
  },
  {
   "cell_type": "code",
   "execution_count": 7,
   "metadata": {},
   "outputs": [
    {
     "name": "stdout",
     "output_type": "stream",
     "text": [
      "Iteration 1\n"
     ]
    },
    {
     "ename": "NameError",
     "evalue": "name 'model1' is not defined",
     "output_type": "error",
     "traceback": [
      "\u001b[0;31m---------------------------------------------------------------------------\u001b[0m",
      "\u001b[0;31mNameError\u001b[0m                                 Traceback (most recent call last)",
      "\u001b[0;32m<ipython-input-7-91a944619c6a>\u001b[0m in \u001b[0;36m<module>\u001b[0;34m\u001b[0m\n\u001b[0;32m----> 1\u001b[0;31m \u001b[0mall_tr_losses\u001b[0m\u001b[0;34m,\u001b[0m \u001b[0mall_te_losses\u001b[0m\u001b[0;34m,\u001b[0m \u001b[0mall_te_acc\u001b[0m \u001b[0;34m=\u001b[0m \u001b[0mfull_train_test\u001b[0m\u001b[0;34m(\u001b[0m\u001b[0mMODELS\u001b[0m\u001b[0;34m.\u001b[0m\u001b[0mget\u001b[0m\u001b[0;34m(\u001b[0m\u001b[0;34m\"SimpleConvNet\"\u001b[0m\u001b[0;34m)\u001b[0m\u001b[0;34m,\u001b[0m \u001b[0mNUM_ITER\u001b[0m\u001b[0;34m,\u001b[0m \u001b[0mNUM_EPOCHS\u001b[0m\u001b[0;34m,\u001b[0m \u001b[0mN\u001b[0m\u001b[0;34m,\u001b[0m \u001b[0mBATCH_SIZE\u001b[0m\u001b[0;34m)\u001b[0m\u001b[0;34m\u001b[0m\u001b[0;34m\u001b[0m\u001b[0m\n\u001b[0m",
      "\u001b[0;32m<ipython-input-6-e8226543754e>\u001b[0m in \u001b[0;36mfull_train_test\u001b[0;34m(model_info, num_iter, num_epochs, data_size, batch_size, verbose)\u001b[0m\n\u001b[1;32m     39\u001b[0m         \u001b[0macc_loader\u001b[0m \u001b[0;34m=\u001b[0m \u001b[0mbuild_test_loader\u001b[0m\u001b[0;34m(\u001b[0m\u001b[0macc_input\u001b[0m\u001b[0;34m,\u001b[0m \u001b[0macc_target\u001b[0m\u001b[0;34m,\u001b[0m \u001b[0mbatch_size\u001b[0m\u001b[0;34m)\u001b[0m\u001b[0;34m\u001b[0m\u001b[0;34m\u001b[0m\u001b[0m\n\u001b[1;32m     40\u001b[0m \u001b[0;34m\u001b[0m\u001b[0m\n\u001b[0;32m---> 41\u001b[0;31m         \u001b[0macc\u001b[0m \u001b[0;34m=\u001b[0m \u001b[0maccuracy\u001b[0m\u001b[0;34m(\u001b[0m\u001b[0mmodel\u001b[0m\u001b[0;34m,\u001b[0m \u001b[0macc_loader\u001b[0m\u001b[0;34m,\u001b[0m \u001b[0;32mNone\u001b[0m\u001b[0;34m,\u001b[0m \u001b[0mmodel_info\u001b[0m\u001b[0;34m.\u001b[0m\u001b[0mget\u001b[0m\u001b[0;34m(\u001b[0m\u001b[0;34m'flatten'\u001b[0m\u001b[0;34m)\u001b[0m\u001b[0;34m)\u001b[0m\u001b[0;34m\u001b[0m\u001b[0;34m\u001b[0m\u001b[0m\n\u001b[0m\u001b[1;32m     42\u001b[0m         \u001b[0;32mif\u001b[0m \u001b[0mverbose\u001b[0m\u001b[0;34m:\u001b[0m\u001b[0;34m\u001b[0m\u001b[0;34m\u001b[0m\u001b[0m\n\u001b[1;32m     43\u001b[0m             \u001b[0mprint\u001b[0m\u001b[0;34m(\u001b[0m\u001b[0;34m\"Test accuracy: %.4f\"\u001b[0m \u001b[0;34m%\u001b[0m \u001b[0macc\u001b[0m\u001b[0;34m)\u001b[0m\u001b[0;34m\u001b[0m\u001b[0;34m\u001b[0m\u001b[0m\n",
      "\u001b[0;32m~/Desktop/Master/Deep Learning/deep-learning-project/mini_project_1/src/utils/metrics.py\u001b[0m in \u001b[0;36maccuracy\u001b[0;34m(model, data_loader, model_1, flatten)\u001b[0m\n\u001b[1;32m     23\u001b[0m \u001b[0;34m\u001b[0m\u001b[0m\n\u001b[1;32m     24\u001b[0m             \u001b[0moutputs_1\u001b[0m \u001b[0;34m=\u001b[0m \u001b[0mmodel\u001b[0m\u001b[0;34m(\u001b[0m\u001b[0minputs_1\u001b[0m\u001b[0;34m)\u001b[0m\u001b[0;34m\u001b[0m\u001b[0;34m\u001b[0m\u001b[0m\n\u001b[0;32m---> 25\u001b[0;31m             \u001b[0;32mif\u001b[0m \u001b[0mmodel1\u001b[0m \u001b[0;34m!=\u001b[0m \u001b[0;32mNone\u001b[0m\u001b[0;34m:\u001b[0m\u001b[0;34m\u001b[0m\u001b[0;34m\u001b[0m\u001b[0m\n\u001b[0m\u001b[1;32m     26\u001b[0m                 \u001b[0moutputs_2\u001b[0m \u001b[0;34m=\u001b[0m \u001b[0mmodel1\u001b[0m\u001b[0;34m(\u001b[0m\u001b[0minputs_2\u001b[0m\u001b[0;34m)\u001b[0m\u001b[0;34m\u001b[0m\u001b[0;34m\u001b[0m\u001b[0m\n\u001b[1;32m     27\u001b[0m             \u001b[0;32melse\u001b[0m\u001b[0;34m:\u001b[0m\u001b[0;34m\u001b[0m\u001b[0;34m\u001b[0m\u001b[0m\n",
      "\u001b[0;31mNameError\u001b[0m: name 'model1' is not defined"
     ]
    }
   ],
   "source": [
    "all_tr_losses, all_te_losses, all_te_acc = full_train_test(MODELS.get(\"SimpleConvNet\"), NUM_ITER, NUM_EPOCHS, N, BATCH_SIZE)"
   ]
  },
  {
   "cell_type": "code",
   "execution_count": null,
   "metadata": {},
   "outputs": [],
   "source": []
  }
 ],
 "metadata": {
  "kernelspec": {
   "display_name": "Python 3",
   "language": "python",
   "name": "python3"
  },
  "language_info": {
   "codemirror_mode": {
    "name": "ipython",
    "version": 3
   },
   "file_extension": ".py",
   "mimetype": "text/x-python",
   "name": "python",
   "nbconvert_exporter": "python",
   "pygments_lexer": "ipython3",
   "version": "3.7.6"
  }
 },
 "nbformat": 4,
 "nbformat_minor": 4
}
