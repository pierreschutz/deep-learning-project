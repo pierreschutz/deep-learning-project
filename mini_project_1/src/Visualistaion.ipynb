{
 "cells": [
  {
   "cell_type": "code",
   "execution_count": 2,
   "metadata": {},
   "outputs": [],
   "source": [
    "import torch\n",
    "from torch.utils import data\n",
    "\n",
    "from utils.dlc_practical_prologue import generate_pair_sets\n",
    "from utils.metrics import accuracy\n",
    "from utils.nn_utils import train_model\n",
    "\n",
    "from models.LeNet import lenet\n",
    "from models.LinearReluNet import linear_relu_net\n",
    "from models.SimpleConvNet import simple_conv_net\n",
    "from models.ResNet import residual_net\n",
    "import matplotlib as mpl\n",
    "import numpy as np\n",
    "import matplotlib.pyplot as plt\n",
    "from models.LinearReluNet import LinearReluNet\n",
    "\n",
    "plt.style.use('seaborn')  \n",
    "mpl.rcParams['font.family'] = 'serif'  "
   ]
  },
  {
   "cell_type": "code",
   "execution_count": 3,
   "metadata": {},
   "outputs": [],
   "source": [
    "# Data related global variables\n",
    "N = 1000  # Number of pairs\n",
    "\n",
    "DATA_TENSORS = generate_pair_sets(N)\n",
    "\n",
    "# Neural nets parameters\n",
    "NN_ARGS = {\"input_size\": 14 * 14, \"num_classes\": 10}\n",
    "BATCH_SIZE = 100\n",
    "NUM_EPOCHS = 25"
   ]
  },
  {
   "cell_type": "code",
   "execution_count": 4,
   "metadata": {},
   "outputs": [],
   "source": [
    "# Datasets\n",
    "train_input,train_target,train_classes,test_input,test_target,test_classes = DATA_TENSORS\n",
    "\n",
    "train_dataset = data.TensorDataset(train_input, train_classes)\n",
    "test_dataset = data.TensorDataset(test_input, test_classes) \n",
    "# Dataset Loader (Input Batcher)\n",
    "\n",
    "train_loader = torch.utils.data.DataLoader(dataset=train_dataset, batch_size=BATCH_SIZE, shuffle=True)\n",
    "\n",
    "test_loader = torch.utils.data.DataLoader(dataset=test_dataset, batch_size=BATCH_SIZE, shuffle=False)\n",
    "\n",
    "models = [linear_relu_net(**NN_ARGS) , lenet() ,simple_conv_net() ,residual_net()]"
   ]
  },
  {
   "cell_type": "code",
   "execution_count": 5,
   "metadata": {},
   "outputs": [],
   "source": [
    "def plot_train_test(model,  NUM_EPOCHS, train_loader,test_loader):\n",
    "    model_name = str(model).partition('\\n')[0][:-1]\n",
    "    if (model_name == 'LinearReluNet'):\n",
    "        losses, losses_t = train_model(model, NUM_EPOCHS, train_loader,test_loader)\n",
    "    else : \n",
    "        losses, losses_t = train_model(model, NUM_EPOCHS, train_loader,test_loader, False)\n",
    "    x = list(np.arange(1, NUM_EPOCHS+1))\n",
    "    plt.figure(figsize=(15, 8))\n",
    "    plt.plot(losses, '--', label = 'Training loss')\n",
    "    plt.plot(losses_t, '--', label = 'Test loss')\n",
    "    plt.legend()\n",
    "    plt.ylabel('Average Cross Entropy Loss')\n",
    "    plt.xlabel(\"Number of epochs\")\n",
    "    plt.title('Cross entropy loss vs number of epochs using ' + model_name )"
   ]
  },
  {
   "cell_type": "code",
   "execution_count": null,
   "metadata": {},
   "outputs": [],
   "source": [
    "for m in models :\n",
    "    plot_train_test(m, NUM_EPOCHS, train_loader, test_loader)"
   ]
  },
  {
   "cell_type": "code",
   "execution_count": 6,
   "metadata": {},
   "outputs": [
    {
     "name": "stdout",
     "output_type": "stream",
     "text": [
      "The accuracy for LinearReluNet: 0.939\n",
      "The accuracy for LeNet: 0.913\n",
      "The accuracy for SimpleConvNet: 0.933\n",
      "The accuracy for ResNet: 0.968\n"
     ]
    }
   ],
   "source": [
    "test_accuracy_d = data.TensorDataset(test_input, test_target)\n",
    "test_loader = torch.utils.data.DataLoader(dataset=test_accuracy_d, batch_size=BATCH_SIZE, shuffle=False)\n",
    "for m in models :\n",
    "    model_name = str(m).partition('\\n')[0][:-1]\n",
    "    if (model_name == 'LinearReluNet'):\n",
    "         print('The accuracy for ' + model_name + ': {}'.format(accuracy(m, test_loader)))\n",
    "    else : \n",
    "        print('The accuracy for ' + model_name + ': {}'.format(accuracy(m, test_loader, flatten=False)))"
   ]
  },
  {
   "cell_type": "code",
   "execution_count": null,
   "metadata": {},
   "outputs": [],
   "source": []
  }
 ],
 "metadata": {
  "kernelspec": {
   "display_name": "Python 3",
   "language": "python",
   "name": "python3"
  },
  "language_info": {
   "codemirror_mode": {
    "name": "ipython",
    "version": 3
   },
   "file_extension": ".py",
   "mimetype": "text/x-python",
   "name": "python",
   "nbconvert_exporter": "python",
   "pygments_lexer": "ipython3",
   "version": "3.7.6"
  }
 },
 "nbformat": 4,
 "nbformat_minor": 4
}
