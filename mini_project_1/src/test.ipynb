{
 "cells": [
  {
   "cell_type": "code",
   "execution_count": 1,
   "metadata": {},
   "outputs": [],
   "source": [
    "# Import general util libraries\n",
    "\n",
    "import torch\n",
    "from torch.utils import data\n",
    "import torch.nn as nn\n",
    "from torch.optim import Adam\n",
    "import numpy as np\n",
    "import matplotlib\n",
    "import matplotlib.pyplot as plt\n",
    "import os\n",
    "plt.style.use('seaborn') \n",
    "matplotlib.rcParams['font.family'] = 'serif'  \n",
    "os.environ['KMP_DUPLICATE_LIB_OK']='True' # Avoid iOS bug with pyplot. \n",
    "\n",
    "# Data loading\n",
    "\n",
    "# Import utils\n",
    "from utils.plot_utils import *\n",
    "from utils.ml_utils import *\n",
    "\n",
    "BASIC_MODELS = ['LinearNet', 'LeNet', 'ResNet']"
   ]
  },
  {
   "cell_type": "markdown",
   "metadata": {},
   "source": [
    "## A. Basic models\n",
    "### A.1. Without auxiliary loss"
   ]
  },
  {
   "cell_type": "code",
   "execution_count": 4,
   "metadata": {},
   "outputs": [
    {
     "name": "stdout",
     "output_type": "stream",
     "text": [
      "Evaluation of model: LinearNet\n",
      "Accuracy: 0.788 +/- 0.013\n",
      "Iteration time:  5.562 +/- 0.582 seconds\n",
      "Evaluation of model: LeNet\n",
      "Accuracy: 0.689 +/- 0.021\n",
      "Iteration time:  14.726 +/- 0.949 seconds\n",
      "Evaluation of model: ResNet\n",
      "Accuracy: 0.801 +/- 0.019\n",
      "Iteration time:  108.891 +/- 13.297 seconds\n"
     ]
    }
   ],
   "source": [
    "for name in BASIC_MODELS:\n",
    "    print(\"Evaluation of model: {}\".format(name))\n",
    "    full_train_test(model_name=name, auxiliary_loss=False, is_siamese=False, weight_sharing=False)"
   ]
  },
  {
   "cell_type": "markdown",
   "metadata": {},
   "source": [
    "### A.2.With auxiliary loss"
   ]
  },
  {
   "cell_type": "code",
   "execution_count": null,
   "metadata": {},
   "outputs": [
    {
     "name": "stdout",
     "output_type": "stream",
     "text": [
      "Evaluation of model: LinearNet\n"
     ]
    }
   ],
   "source": [
    "for name in BASIC_MODELS:\n",
    "    print(\"Evaluation of model: {}\".format(name))\n",
    "    full_train_test(model_name=name, auxiliary_loss=True, is_siamese=False, weight_sharing=False)"
   ]
  },
  {
   "cell_type": "markdown",
   "metadata": {},
   "source": [
    "## B. Siamese models\n",
    "### B.1. Pseudo siamese (without weight sharing)"
   ]
  },
  {
   "cell_type": "code",
   "execution_count": 8,
   "metadata": {},
   "outputs": [
    {
     "name": "stdout",
     "output_type": "stream",
     "text": [
      "Evaluation of model: LinearNet\n",
      "Accuracy: 0.851 +/- 0.012\n",
      "Iteration time:  6.921 +/- 0.328 seconds\n",
      "Evaluation of model: LeNet\n",
      "Accuracy: 0.801 +/- 0.016\n",
      "Iteration time:  21.524 +/- 0.745 seconds\n",
      "Evaluation of model: ResNet\n",
      "Accuracy: 0.850 +/- 0.012\n",
      "Iteration time:  201.056 +/- 1.324 seconds\n"
     ]
    }
   ],
   "source": [
    "for name in BASIC_MODELS:\n",
    "    print(\"Evaluation of model: {}\".format(name))\n",
    "    full_train_test(model_name=name, auxiliary_loss=False, is_siamese=True, weight_sharing=False)"
   ]
  },
  {
   "cell_type": "markdown",
   "metadata": {},
   "source": [
    "### B.2. Pseudo siamese with auxliary loss"
   ]
  },
  {
   "cell_type": "code",
   "execution_count": 9,
   "metadata": {},
   "outputs": [
    {
     "name": "stdout",
     "output_type": "stream",
     "text": [
      "Evaluation of model: LinearNet\n",
      "Accuracy: 0.776 +/- 0.019\n",
      "Iteration time:  10.131 +/- 0.687 seconds\n",
      "Evaluation of model: LeNet\n",
      "Accuracy: 0.730 +/- 0.032\n",
      "Iteration time:  34.096 +/- 0.932 seconds\n",
      "Evaluation of model: ResNet\n",
      "Accuracy: 0.847 +/- 0.014\n",
      "Iteration time:  286.654 +/- 5.206 seconds\n"
     ]
    }
   ],
   "source": [
    "for name in BASIC_MODELS:\n",
    "    print(\"Evaluation of model: {}\".format(name))\n",
    "    full_train_test(model_name=name, auxiliary_loss=True, is_siamese=True, weight_sharing=False)"
   ]
  },
  {
   "cell_type": "markdown",
   "metadata": {},
   "source": [
    "### B.3. Siamese (weight sharing)"
   ]
  },
  {
   "cell_type": "code",
   "execution_count": 10,
   "metadata": {},
   "outputs": [
    {
     "name": "stdout",
     "output_type": "stream",
     "text": [
      "Evaluation of model: LinearNet\n",
      "Accuracy: 0.848 +/- 0.010\n",
      "Iteration time:  8.796 +/- 0.556 seconds\n",
      "Evaluation of model: LeNet\n",
      "Accuracy: 0.808 +/- 0.015\n",
      "Iteration time:  24.727 +/- 1.313 seconds\n",
      "Evaluation of model: ResNet\n",
      "Accuracy: 0.849 +/- 0.014\n",
      "Iteration time:  211.638 +/- 7.028 seconds\n"
     ]
    }
   ],
   "source": [
    "for name in BASIC_MODELS:\n",
    "    print(\"Evaluation of model: {}\".format(name))\n",
    "    full_train_test(model_name=name, auxiliary_loss=False, is_siamese=True, weight_sharing=True)"
   ]
  },
  {
   "cell_type": "markdown",
   "metadata": {},
   "source": [
    "### B.4. Siamese with auxiliary loss"
   ]
  },
  {
   "cell_type": "code",
   "execution_count": 11,
   "metadata": {},
   "outputs": [
    {
     "name": "stdout",
     "output_type": "stream",
     "text": [
      "Evaluation of model: LinearNet\n",
      "Accuracy: 0.793 +/- 0.017\n",
      "Iteration time:  11.039 +/- 0.549 seconds\n",
      "Evaluation of model: LeNet\n",
      "Accuracy: 0.726 +/- 0.020\n",
      "Iteration time:  37.037 +/- 1.073 seconds\n",
      "Evaluation of model: ResNet\n",
      "Accuracy: 0.846 +/- 0.014\n",
      "Iteration time:  341.856 +/- 12.299 seconds\n"
     ]
    }
   ],
   "source": [
    "for name in BASIC_MODELS:\n",
    "    print(\"Evaluation of model: {}\".format(name))\n",
    "    full_train_test(model_name=name, auxiliary_loss=True, is_siamese=True, weight_sharing=True)"
   ]
  }
 ],
 "metadata": {
  "kernelspec": {
   "display_name": "Python 3",
   "language": "python",
   "name": "python3"
  },
  "language_info": {
   "codemirror_mode": {
    "name": "ipython",
    "version": 3
   },
   "file_extension": ".py",
   "mimetype": "text/x-python",
   "name": "python",
   "nbconvert_exporter": "python",
   "pygments_lexer": "ipython3",
   "version": "3.7.6"
  }
 },
 "nbformat": 4,
 "nbformat_minor": 4
}
