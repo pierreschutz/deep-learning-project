{
 "cells": [
  {
   "cell_type": "code",
   "execution_count": 1,
   "metadata": {},
   "outputs": [],
   "source": [
    "import torch\n",
    "from torch.utils import data\n",
    "\n",
    "from utils.dlc_practical_prologue import generate_pair_sets\n",
    "from utils.metrics import accuracy\n",
    "from utils.nn_utils import train_model\n",
    "\n",
    "from models.LeNet import lenet\n",
    "from models.LinearReluNet import linear_relu_net\n",
    "from models.SimpleConvNet import simple_conv_net\n",
    "from models.ResNet import residual_net\n"
   ]
  },
  {
   "cell_type": "code",
   "execution_count": 2,
   "metadata": {},
   "outputs": [],
   "source": [
    "# Data related global variables\n",
    "N = 1000  # Number of pairs\n",
    "\n",
    "DATA_TENSORS = generate_pair_sets(N)\n",
    "\n",
    "# Neural nets parameters\n",
    "NN_ARGS = {\"input_size\": 14 * 14, \"num_classes\": 10}\n",
    "BATCH_SIZE = 100\n",
    "NUM_EPOCHS = 25"
   ]
  },
  {
   "cell_type": "code",
   "execution_count": 5,
   "metadata": {},
   "outputs": [
    {
     "name": "stdout",
     "output_type": "stream",
     "text": [
      "End of Epoch 1, Avg Loss=3.8036\n",
      "End of Epoch 2, Avg Loss=2.1782\n",
      "End of Epoch 3, Avg Loss=1.2107\n",
      "End of Epoch 4, Avg Loss=0.7171\n",
      "End of Epoch 5, Avg Loss=0.5481\n",
      "End of Epoch 6, Avg Loss=0.3931\n",
      "End of Epoch 7, Avg Loss=0.3004\n",
      "End of Epoch 8, Avg Loss=0.2381\n",
      "End of Epoch 9, Avg Loss=0.2133\n",
      "End of Epoch 10, Avg Loss=0.1941\n",
      "End of Epoch 11, Avg Loss=0.1545\n",
      "End of Epoch 12, Avg Loss=0.1443\n",
      "End of Epoch 13, Avg Loss=0.1144\n",
      "End of Epoch 14, Avg Loss=0.1001\n",
      "End of Epoch 15, Avg Loss=0.0728\n",
      "End of Epoch 16, Avg Loss=0.0583\n",
      "End of Epoch 17, Avg Loss=0.0414\n",
      "End of Epoch 18, Avg Loss=0.0387\n",
      "End of Epoch 19, Avg Loss=0.0299\n",
      "End of Epoch 20, Avg Loss=0.0289\n",
      "End of Epoch 21, Avg Loss=0.0233\n",
      "End of Epoch 22, Avg Loss=0.0448\n",
      "End of Epoch 23, Avg Loss=0.0547\n",
      "End of Epoch 24, Avg Loss=0.0601\n",
      "End of Epoch 25, Avg Loss=0.0628\n",
      "Model accuracy:\n",
      "0.968\n"
     ]
    }
   ],
   "source": [
    "# Datasets\n",
    "train_input,train_target,train_classes,test_input,test_target,test_classes = DATA_TENSORS\n",
    "\n",
    "train_dataset = data.TensorDataset(train_input, train_classes)\n",
    "test_dataset = data.TensorDataset(test_input, test_target) \n",
    "    # Dataset Loader (Input Batcher)\n",
    "\n",
    "train_loader = torch.utils.data.DataLoader(dataset=train_dataset, batch_size=BATCH_SIZE, shuffle=True)\n",
    "\n",
    "test_loader = torch.utils.data.DataLoader(dataset=test_dataset, batch_size=BATCH_SIZE, shuffle=False)\n",
    "\n",
    "# Init a model\n",
    "model = residual_net()\n",
    "\n",
    "# Train a model\n",
    "#train_model(linear_relu_model, NUM_EPOCHS, train_loader)\n",
    "train_model(model, NUM_EPOCHS, train_loader, flatten=False)\n",
    "# Test a model\n",
    "\n",
    "print(\"Model accuracy:\")\n",
    "print(accuracy(model, test_loader, flatten=False))"
   ]
  },
  {
   "cell_type": "code",
   "execution_count": null,
   "metadata": {},
   "outputs": [],
   "source": []
  },
  {
   "cell_type": "code",
   "execution_count": null,
   "metadata": {},
   "outputs": [],
   "source": []
  }
 ],
 "metadata": {
  "kernelspec": {
   "display_name": "Python 3",
   "language": "python",
   "name": "python3"
  },
  "language_info": {
   "codemirror_mode": {
    "name": "ipython",
    "version": 3
   },
   "file_extension": ".py",
   "mimetype": "text/x-python",
   "name": "python",
   "nbconvert_exporter": "python",
   "pygments_lexer": "ipython3",
   "version": "3.7.6"
  }
 },
 "nbformat": 4,
 "nbformat_minor": 4
}
