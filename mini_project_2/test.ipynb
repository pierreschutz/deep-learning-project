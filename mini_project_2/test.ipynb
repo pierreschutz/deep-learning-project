{
 "cells": [
  {
   "cell_type": "code",
   "execution_count": 7,
   "metadata": {},
   "outputs": [],
   "source": [
    "# Import projects libs\n",
    "import fwk.neural_nets as nn\n",
    "import fwk.optimizers as optim\n",
    "from utils import *\n",
    "\n",
    "\n",
    "import torch\n",
    "from collections import OrderedDict\n",
    "\n",
    "\n",
    "# Disable auto_grad\n",
    "torch.set_grad_enabled(False)\n",
    "\n",
    "# Global variables\n",
    "N_EPOCHS = 100"
   ]
  },
  {
   "cell_type": "code",
   "execution_count": 8,
   "metadata": {},
   "outputs": [],
   "source": [
    "# Generate dataset\n",
    "X_train, Y_train = generate_data()\n",
    "X_test, Y_test = generate_data()"
   ]
  },
  {
   "cell_type": "code",
   "execution_count": 9,
   "metadata": {},
   "outputs": [],
   "source": [
    "# Create example feedforward neural network\n",
    "class CustomNet(nn.Module):\n",
    "\n",
    "    def __init__(self):\n",
    "        self.f = nn.Sequential(OrderedDict(\n",
    "            {\n",
    "                'linear 1': nn.Linear(2, 25),\n",
    "                'relu 1': nn.Tanh(),\n",
    "                'linear 2': nn.Linear(25, 25),\n",
    "                'relu 2': nn.Tanh(),\n",
    "                'linear 3': nn.Linear(25, 25),\n",
    "                'relu 3': nn.Tanh(),\n",
    "                'linear 4': nn.Linear(25, 2),\n",
    "                'last act': nn.Tanh(),\n",
    "            }\n",
    "        )\n",
    "        )\n",
    "\n",
    "    def backward(self, d_loss):\n",
    "        return self.f.backward(d_loss)\n",
    "\n",
    "    def forward(self, x):\n",
    "        return self.f.forward(x)\n",
    "    \n",
    "    def zero_grad(self):\n",
    "        return self.f.zero_grad()\n",
    "    \n",
    "    def param(self):\n",
    "        return self.f.param()"
   ]
  },
  {
   "cell_type": "code",
   "execution_count": 10,
   "metadata": {},
   "outputs": [],
   "source": [
    "# Init training parameters\n",
    "model = CustomNet()\n",
    "criterion = nn.MSE()\n",
    "optimizer = optim.SGD(model.param())"
   ]
  },
  {
   "cell_type": "code",
   "execution_count": 11,
   "metadata": {},
   "outputs": [
    {
     "name": "stdout",
     "output_type": "stream",
     "text": [
      "Epoch 1: Average loss=1.1879911422729492\n",
      "Epoch 2: Average loss=0.5216333866119385\n",
      "Epoch 3: Average loss=0.4848531484603882\n",
      "Epoch 4: Average loss=0.4626409411430359\n",
      "Epoch 5: Average loss=0.44271042943000793\n",
      "Epoch 6: Average loss=0.42634478211402893\n",
      "Epoch 7: Average loss=0.4117727279663086\n",
      "Epoch 8: Average loss=0.39615485072135925\n",
      "Epoch 9: Average loss=0.34587377309799194\n",
      "Epoch 10: Average loss=0.3079235851764679\n",
      "Epoch 11: Average loss=0.2530750036239624\n",
      "Epoch 12: Average loss=0.19193005561828613\n",
      "Epoch 13: Average loss=0.17893019318580627\n",
      "Epoch 14: Average loss=0.1691586971282959\n",
      "Epoch 15: Average loss=0.16022028028964996\n",
      "Epoch 16: Average loss=0.15319131314754486\n",
      "Epoch 17: Average loss=0.14840127527713776\n",
      "Epoch 18: Average loss=0.14517807960510254\n",
      "Epoch 19: Average loss=0.14204581081867218\n",
      "Epoch 20: Average loss=0.1392124444246292\n",
      "Epoch 21: Average loss=0.1365884393453598\n",
      "Epoch 22: Average loss=0.1341230273246765\n",
      "Epoch 23: Average loss=0.13177190721035004\n",
      "Epoch 24: Average loss=0.12949338555335999\n",
      "Epoch 25: Average loss=0.12725387513637543\n",
      "Epoch 26: Average loss=0.12503103911876678\n",
      "Epoch 27: Average loss=0.12281594425439835\n",
      "Epoch 28: Average loss=0.12061302363872528\n",
      "Epoch 29: Average loss=0.11843738704919815\n",
      "Epoch 30: Average loss=0.11630924046039581\n",
      "Epoch 31: Average loss=0.11424857378005981\n",
      "Epoch 32: Average loss=0.11227062344551086\n",
      "Epoch 33: Average loss=0.11038324981927872\n",
      "Epoch 34: Average loss=0.10858692973852158\n",
      "Epoch 35: Average loss=0.10687624663114548\n",
      "Epoch 36: Average loss=0.10524165630340576\n",
      "Epoch 37: Average loss=0.10367171466350555\n",
      "Epoch 38: Average loss=0.10215484350919724\n",
      "Epoch 39: Average loss=0.10068068653345108\n",
      "Epoch 40: Average loss=0.09924090653657913\n",
      "Epoch 41: Average loss=0.09782947599887848\n",
      "Epoch 42: Average loss=0.09644236415624619\n",
      "Epoch 43: Average loss=0.09507741034030914\n",
      "Epoch 44: Average loss=0.09373325854539871\n",
      "Epoch 45: Average loss=0.09240957349538803\n",
      "Epoch 46: Average loss=0.09110671281814575\n",
      "Epoch 47: Average loss=0.08982589095830917\n",
      "Epoch 48: Average loss=0.08856934309005737\n",
      "Epoch 49: Average loss=0.08734039217233658\n",
      "Epoch 50: Average loss=0.0861426293849945\n",
      "Epoch 51: Average loss=0.0849800631403923\n",
      "Epoch 52: Average loss=0.08385671675205231\n",
      "Epoch 53: Average loss=0.08277733623981476\n",
      "Epoch 54: Average loss=0.08174744248390198\n",
      "Epoch 55: Average loss=0.08077268302440643\n",
      "Epoch 56: Average loss=0.07985662668943405\n",
      "Epoch 57: Average loss=0.07899921387434006\n",
      "Epoch 58: Average loss=0.07819676399230957\n",
      "Epoch 59: Average loss=0.07744397222995758\n",
      "Epoch 60: Average loss=0.07673502713441849\n",
      "Epoch 61: Average loss=0.07606472074985504\n",
      "Epoch 62: Average loss=0.07542872428894043\n",
      "Epoch 63: Average loss=0.07482323050498962\n",
      "Epoch 64: Average loss=0.074245385825634\n",
      "Epoch 65: Average loss=0.07369253784418106\n",
      "Epoch 66: Average loss=0.07316245138645172\n",
      "Epoch 67: Average loss=0.07265324890613556\n",
      "Epoch 68: Average loss=0.07216325402259827\n",
      "Epoch 69: Average loss=0.07169102877378464\n",
      "Epoch 70: Average loss=0.07123537361621857\n",
      "Epoch 71: Average loss=0.07079511135816574\n",
      "Epoch 72: Average loss=0.07036931067705154\n",
      "Epoch 73: Average loss=0.06995705515146255\n",
      "Epoch 74: Average loss=0.06955758482217789\n",
      "Epoch 75: Average loss=0.06917019188404083\n",
      "Epoch 76: Average loss=0.06879420578479767\n",
      "Epoch 77: Average loss=0.0684291273355484\n",
      "Epoch 78: Average loss=0.0680742934346199\n",
      "Epoch 79: Average loss=0.06772930175065994\n",
      "Epoch 80: Average loss=0.06739363819360733\n",
      "Epoch 81: Average loss=0.06706687808036804\n",
      "Epoch 82: Average loss=0.066748708486557\n",
      "Epoch 83: Average loss=0.06643872708082199\n",
      "Epoch 84: Average loss=0.06613649427890778\n",
      "Epoch 85: Average loss=0.06584175676107407\n",
      "Epoch 86: Average loss=0.06555426120758057\n",
      "Epoch 87: Average loss=0.06527361273765564\n",
      "Epoch 88: Average loss=0.06499958783388138\n",
      "Epoch 89: Average loss=0.06473184376955032\n",
      "Epoch 90: Average loss=0.06447027623653412\n",
      "Epoch 91: Average loss=0.06421447545289993\n",
      "Epoch 92: Average loss=0.06396440416574478\n",
      "Epoch 93: Average loss=0.06371966749429703\n",
      "Epoch 94: Average loss=0.0634801983833313\n",
      "Epoch 95: Average loss=0.0632457360625267\n",
      "Epoch 96: Average loss=0.0630161240696907\n",
      "Epoch 97: Average loss=0.06279119849205017\n",
      "Epoch 98: Average loss=0.06257076561450958\n",
      "Epoch 99: Average loss=0.06235464662313461\n",
      "Epoch 100: Average loss=0.06214268505573273\n"
     ]
    }
   ],
   "source": [
    "# Train model\n",
    "train(X_train, Y_train, model, optimizer, criterion, n_epochs = N_EPOCHS, verbose=True)"
   ]
  },
  {
   "cell_type": "code",
   "execution_count": 12,
   "metadata": {},
   "outputs": [
    {
     "name": "stdout",
     "output_type": "stream",
     "text": [
      "Train accuracy: 0.971\n",
      "Test accuracy: 0.968\n"
     ]
    }
   ],
   "source": [
    "print(\"Train accuracy:\", accuracy(model, X_train, Y_train))\n",
    "print(\"Test accuracy:\", accuracy(model, X_test, Y_test))"
   ]
  },
  {
   "cell_type": "code",
   "execution_count": null,
   "metadata": {},
   "outputs": [],
   "source": []
  },
  {
   "cell_type": "code",
   "execution_count": null,
   "metadata": {},
   "outputs": [],
   "source": []
  }
 ],
 "metadata": {
  "kernelspec": {
   "display_name": "Python 3",
   "language": "python",
   "name": "python3"
  },
  "language_info": {
   "codemirror_mode": {
    "name": "ipython",
    "version": 3
   },
   "file_extension": ".py",
   "mimetype": "text/x-python",
   "name": "python",
   "nbconvert_exporter": "python",
   "pygments_lexer": "ipython3",
   "version": "3.7.6"
  }
 },
 "nbformat": 4,
 "nbformat_minor": 4
}
