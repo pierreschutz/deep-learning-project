{
 "cells": [
  {
   "cell_type": "code",
   "execution_count": 1,
   "metadata": {},
   "outputs": [
    {
     "data": {
      "text/plain": [
       "<torch.autograd.grad_mode.set_grad_enabled at 0x7ff521826990>"
      ]
     },
     "execution_count": 1,
     "metadata": {},
     "output_type": "execute_result"
    }
   ],
   "source": [
    "# Import projects libs\n",
    "import fwk.neural_nets as nn\n",
    "import fwk.optimizers as optim\n",
    "from utils import *\n",
    "\n",
    "\n",
    "import torch\n",
    "from collections import OrderedDict\n",
    "\n",
    "\n",
    "# Disable auto_grad\n",
    "torch.set_grad_enabled(False)"
   ]
  },
  {
   "cell_type": "code",
   "execution_count": 2,
   "metadata": {},
   "outputs": [],
   "source": [
    "# Create example feedforward neural network\n",
    "class CustomNet(nn.Module):\n",
    "\n",
    "    def __init__(self):\n",
    "        self.f = nn.Sequential(OrderedDict(\n",
    "            {\n",
    "                'linear 1': nn.Linear(2, 25),\n",
    "                'relu 1': nn.Tanh(),\n",
    "                'linear 2': nn.Linear(25, 25),\n",
    "                'relu 2': nn.Tanh(),\n",
    "                'linear 3': nn.Linear(25, 25),\n",
    "                'relu 3': nn.Tanh(),\n",
    "                'linear 4': nn.Linear(25, 2),\n",
    "                'last act': nn.Tanh(),\n",
    "            }\n",
    "        )\n",
    "        )\n",
    "\n",
    "    def backward(self, d_loss):\n",
    "        return self.f.backward(d_loss)\n",
    "\n",
    "    def forward(self, x):\n",
    "        return self.f.forward(x)\n",
    "    \n",
    "    def zero_grad(self):\n",
    "        return self.f.zero_grad()\n",
    "    \n",
    "    def param(self):\n",
    "        return self.f.param()"
   ]
  },
  {
   "cell_type": "code",
   "execution_count": 3,
   "metadata": {},
   "outputs": [],
   "source": [
    "# Perform 20 train and test to have a strong estimation of test accuracy\n",
    "all_acc = []\n",
    "for it in range(20):\n",
    "    # Generate dataset\n",
    "    X_train, Y_train = generate_data()\n",
    "    X_test, Y_test = generate_data()\n",
    "    \n",
    "    # Init model, loss and optimizer\n",
    "    model = CustomNet()\n",
    "    criterion = nn.MSE()\n",
    "    optimizer = optim.SGD(model.param()) #lr = 1e-3 by default.\n",
    "    \n",
    "    # Train model\n",
    "    train(X_train, Y_train, model, optimizer, criterion)\n",
    "    \n",
    "    all_acc.append(accuracy(model, X_test, Y_test))   "
   ]
  },
  {
   "cell_type": "code",
   "execution_count": 4,
   "metadata": {},
   "outputs": [
    {
     "name": "stdout",
     "output_type": "stream",
     "text": [
      "Median test accuracy over 20 iteration: 0.972\n"
     ]
    }
   ],
   "source": [
    "sorted_acc = sorted(all_acc)\n",
    "med_index = int((len(all_acc) -1)/2.0)\n",
    "\n",
    "median_acc = sorted_acc[med_index] if len(sorted_acc) % 2 == 0 else (sorted_acc[med_index] + sorted_acc[med_index + 1])/2\n",
    "print(\"Median test accuracy over 20 iteration: {}\".format(median_acc))"
   ]
  }
 ],
 "metadata": {
  "kernelspec": {
   "display_name": "Python 3",
   "language": "python",
   "name": "python3"
  },
  "language_info": {
   "codemirror_mode": {
    "name": "ipython",
    "version": 3
   },
   "file_extension": ".py",
   "mimetype": "text/x-python",
   "name": "python",
   "nbconvert_exporter": "python",
   "pygments_lexer": "ipython3",
   "version": "3.7.6"
  }
 },
 "nbformat": 4,
 "nbformat_minor": 4
}
